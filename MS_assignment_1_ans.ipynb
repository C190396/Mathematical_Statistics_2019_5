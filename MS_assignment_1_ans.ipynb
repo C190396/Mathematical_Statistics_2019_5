{
  "cells": [
    {
      "metadata": {
        "collapsed": true
      },
      "cell_type": "markdown",
      "source": "## 数理統計学(2019)　課題1\n\n### このnotebookには、いくつかの課題が記載されています。\n### 先頭から順番に、指示に従ってPython Codeをcellに記述してください。\n### codeを記述するcellは、各自適切に生成してください。\n\n### 課題提出方法\n#### 各自のGitHubに、学籍番号_MS1（たとえば、C180001_MS1)という名称のrepositoryを作成してください。\n#### このnotebookを各自のGitHubのリポジトリ（学籍番号_MS1)へコピーしてください。\n#### 各自のGitHubのリポジトリをoffice 365のメールアカウントを使用して、sugimura@ccg.ac.jpへ送信してください。メールの件名は、学籍番号_MS1としてください。\n##### 【重要】指定された方法で課題を提出することも課題に含まれています。"
    },
    {
      "metadata": {},
      "cell_type": "markdown",
      "source": "#### 第1問：Pythonにおいて数値計算を行うためのモジュルnumpyをインポートし、numpy数値計算ライブラリを利用できるように設定してください。"
    },
    {
      "metadata": {
        "trusted": true
      },
      "cell_type": "code",
      "source": "import numpy as np",
      "execution_count": 2,
      "outputs": []
    },
    {
      "metadata": {},
      "cell_type": "markdown",
      "source": "#### 第2問：numpyのメソッドnumpy.random.normal(avg, std, n)は、平均がavg、標準偏差がstdである正規分布に従う乱数をn個発生させることができます。このメソッドを使用して、平均=60、標準偏差=15、個数=50である乱数からなるリストA1を発生させ、画面に表示させてください。\n"
    },
    {
      "metadata": {
        "trusted": true
      },
      "cell_type": "code",
      "source": "A1 = np.random.normal(60, 15, 50)\nA1",
      "execution_count": 10,
      "outputs": [
        {
          "output_type": "execute_result",
          "execution_count": 10,
          "data": {
            "text/plain": "array([ 80.86057272,  84.45041499,  41.54424159,  58.13219832,\n        87.83662765,  75.18187776,  61.83338546, 103.59073801,\n        52.99806588,  86.51815607,  91.94860017,  58.04842016,\n        53.70809027,  40.03918135,  56.89151303,  55.82922893,\n        57.86724942,  43.53100905,  60.73007199,  61.15914791,\n        61.54966309,  46.02342795,  99.3568772 ,  48.84136313,\n        58.57142959,  72.71751381,  52.56947945,  75.01724369,\n        71.64908016,  60.67293052,  54.2338809 ,  60.35536088,\n        64.3934944 ,  38.1572496 ,  56.03499271,  57.07076516,\n        78.88747665,  55.44103733,  53.71999469,  28.17052588,\n        67.732584  ,  86.05661492,  75.13896302,  73.80508851,\n        82.83160509,  86.17094412,  65.53942458,  26.64842492,\n        59.12300364,  24.57544952])"
          },
          "metadata": {}
        }
      ]
    },
    {
      "metadata": {},
      "cell_type": "markdown",
      "source": "#### 第3問：第2問で発生させた乱数を整数に変換して、50個の整数のリストA2を発生させ、画面に表示させてください。\n#### Pythonのint関数は、データを整数へ変換することができます。xが実数であるとき、int(x)は、xを丸めた整数型の数値を返します。\n#### なお、リスト内包表記を用いると、コードを簡単化することができます。"
    },
    {
      "metadata": {
        "trusted": true
      },
      "cell_type": "code",
      "source": "A2 = [int(x) for x in A1]\nA2",
      "execution_count": 16,
      "outputs": [
        {
          "output_type": "execute_result",
          "execution_count": 16,
          "data": {
            "text/plain": "[80,\n 84,\n 41,\n 58,\n 87,\n 75,\n 61,\n 103,\n 52,\n 86,\n 91,\n 58,\n 53,\n 40,\n 56,\n 55,\n 57,\n 43,\n 60,\n 61,\n 61,\n 46,\n 99,\n 48,\n 58,\n 72,\n 52,\n 75,\n 71,\n 60,\n 54,\n 60,\n 64,\n 38,\n 56,\n 57,\n 78,\n 55,\n 53,\n 28,\n 67,\n 86,\n 75,\n 73,\n 82,\n 86,\n 65,\n 26,\n 59,\n 24]"
          },
          "metadata": {}
        }
      ]
    },
    {
      "metadata": {},
      "cell_type": "markdown",
      "source": "#### 第3問：以下の整数型リストB1の要素の平均値を計算して、画面に表示させてください。\n\n##### なお、平均値は、\n\n$$平均値　= \\frac{リスト中の要素の合計}{リスト中の要素の個数}$$\n\n##### によって計算してください。"
    },
    {
      "metadata": {
        "trusted": true
      },
      "cell_type": "code",
      "source": "B1 = [80, 84, 41, 58, 87, 75, 61, 103, 52, 86, 91, 58, 53, 40, 56, 55, 57, 43, 60,\n      61, 61, 46, 99, 48, 58, 72, 52, 75, 71, 60, 54, 60, 64, 38, 56, 57, 78, 55, 53, 28, 67, 86, 75, 73, 82, 86, 65, 26, 59, 24]",
      "execution_count": 1,
      "outputs": []
    },
    {
      "metadata": {
        "trusted": true
      },
      "cell_type": "code",
      "source": "ave = sum(B1)/len(B1)\nprint(ave)",
      "execution_count": 2,
      "outputs": [
        {
          "output_type": "stream",
          "text": "62.58\n",
          "name": "stdout"
        }
      ]
    },
    {
      "metadata": {},
      "cell_type": "markdown",
      "source": "#### 第4問：整数型リストB1の要素の中の最大値を求めるコードを記述し、max(B1)の結果と一致することを確認してください。"
    },
    {
      "metadata": {
        "trusted": true
      },
      "cell_type": "code",
      "source": "max(B1)",
      "execution_count": 3,
      "outputs": [
        {
          "output_type": "execute_result",
          "execution_count": 3,
          "data": {
            "text/plain": "103"
          },
          "metadata": {}
        }
      ]
    },
    {
      "metadata": {
        "trusted": true
      },
      "cell_type": "code",
      "source": "max_data = -100\nfor i in B1:\n    if i > max_data:\n        max_data = i\nif (max_data == -100):\n    print('error!')\nelse:\n    print('最大値は', max_data, 'です。')\n\nif max_data == max(B1):\n    print(\"OK\")\nelse:\n    print(\"NG\")",
      "execution_count": 4,
      "outputs": [
        {
          "output_type": "stream",
          "text": "最大値は 103 です。\nOK\n",
          "name": "stdout"
        }
      ]
    },
    {
      "metadata": {
        "trusted": true
      },
      "cell_type": "code",
      "source": "",
      "execution_count": null,
      "outputs": []
    }
  ],
  "metadata": {
    "kernelspec": {
      "name": "python36",
      "display_name": "Python 3.6",
      "language": "python"
    },
    "language_info": {
      "mimetype": "text/x-python",
      "nbconvert_exporter": "python",
      "name": "python",
      "pygments_lexer": "ipython3",
      "version": "3.6.6",
      "file_extension": ".py",
      "codemirror_mode": {
        "version": 3,
        "name": "ipython"
      }
    }
  },
  "nbformat": 4,
  "nbformat_minor": 2
}